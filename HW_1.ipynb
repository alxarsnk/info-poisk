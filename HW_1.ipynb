{
 "cells": [
  {
   "cell_type": "code",
   "execution_count": 1,
   "metadata": {},
   "outputs": [],
   "source": [
    "\n",
    "# import required modules \n",
    "from bs4 import BeautifulSoup \n",
    "import requests\n",
    "import time\n",
    "\n",
    "totalLinks = []\n",
    "\n",
    "# Берет все ссылки с сайта\n",
    "# и дальше рекурсивно берет ссылки с каждого надйенного сайта внутри\n",
    "def getLinksFrom(pageURL):\n",
    "    global totalLinks\n",
    "    page = requests.get(pageURL)\n",
    "    soup = BeautifulSoup(page.content, 'html.parser') \n",
    "    links = []\n",
    "    for a in soup.find_all('a', href=True):\n",
    "        if \"https\" in a['href']:\n",
    "            links.append(a['href'])\n",
    "    if len(links) > 0:\n",
    "        for link in links:\n",
    "            if len(totalLinks) < 100:\n",
    "                # если не задать en.wikipedia поиск уходит на фейсбук твиттер и разные языки,\n",
    "                # а так хотя бы внутри англйиской википедии ходит\n",
    "                if link not in totalLinks and \"en.wikipedia.org\" in link:\n",
    "                    totalLinks.append(link)\n",
    "                    getLinksFrom(link)\n",
    "            else:\n",
    "                break\n",
    "\n",
    "\n",
    "getLinksFrom(\"https://ru.wikipedia.org/wiki/Википедия:Избранные_статьи\")"
   ]
  },
  {
   "cell_type": "code",
   "execution_count": 2,
   "metadata": {},
   "outputs": [
    {
     "name": "stdout",
     "output_type": "stream",
     "text": [
      "100\n"
     ]
    }
   ],
   "source": [
    "print(len(list(set(totalLinks))))"
   ]
  },
  {
   "cell_type": "code",
   "execution_count": 3,
   "metadata": {},
   "outputs": [],
   "source": [
    "i = 0\n",
    "index = open('index.txt','w', encoding=\"utf-8\")\n",
    "for link in list(set(totalLinks)):\n",
    "    page = requests.get(link) \n",
    "    soup = BeautifulSoup(page.content, 'html.parser')\n",
    "    f = open('Выкачка%(i)03d.txt' %{\"i\": i},'w', encoding=\"utf-8\")\n",
    "    string = \"%(i)03d \"%{\"i\": i} + link + \"\\n\"\n",
    "    index.write(string)\n",
    "    f.write(soup.prettify()) \n",
    "    f.close()\n",
    "    i += 1\n",
    "index.close()"
   ]
  },
  {
   "cell_type": "code",
   "execution_count": null,
   "metadata": {},
   "outputs": [],
   "source": []
  },
  {
   "cell_type": "code",
   "execution_count": null,
   "metadata": {},
   "outputs": [],
   "source": []
  }
 ],
 "metadata": {
  "kernelspec": {
   "display_name": "Python 3",
   "language": "python",
   "name": "python3"
  },
  "language_info": {
   "codemirror_mode": {
    "name": "ipython",
    "version": 3
   },
   "file_extension": ".py",
   "mimetype": "text/x-python",
   "name": "python",
   "nbconvert_exporter": "python",
   "pygments_lexer": "ipython3",
   "version": "3.7.6"
  }
 },
 "nbformat": 4,
 "nbformat_minor": 4
}
