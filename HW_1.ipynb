{
 "cells": [
  {
   "cell_type": "code",
   "execution_count": 107,
   "metadata": {},
   "outputs": [
    {
     "name": "stdout",
     "output_type": "stream",
     "text": [
      "['https://www.speedtest.net/ru/login', 'https://www.ookla.com/enterprise', 'https://downdetector.com/enterprise/', 'https://www.ookla.com/partnerships', 'https://www.extremetech.com/', 'https://www.ookla.com/ookla-for-good', 'https://www.askmen.com/', 'https://single.speedtest.net', 'https://www.toolbox.com/', 'https://www.facebook.com/speedtest', 'https://www.geek.com/', 'https://www.pcmag.com/', 'https://downdetector.com/', 'https://www.offers.com/', 'https://www.ookla.com/', 'https://www.ziffdavis.com/', 'https://twitter.com/speedtest', 'https://status.ookla.com/', 'https://www.ign.com/', 'https://www.speedtest.net/ru/login', 'https://www.ookla.com/enterprise', 'https://downdetector.com/enterprise/', 'https://www.ookla.com/partnerships', 'https://www.extremetech.com/', 'https://www.ookla.com/ookla-for-good', 'https://www.askmen.com/', 'https://single.speedtest.net', 'https://www.toolbox.com/', 'https://www.facebook.com/speedtest', 'https://www.geek.com/', 'https://www.pcmag.com/', 'https://downdetector.com/', 'https://www.offers.com/', 'https://www.ookla.com/', 'https://www.ziffdavis.com/', 'https://twitter.com/speedtest', 'https://status.ookla.com/', 'https://www.ign.com/', 'https://www.speedtest.net/ru/login', 'https://www.ookla.com/enterprise', 'https://downdetector.com/enterprise/', 'https://www.ookla.com/partnerships', 'https://www.extremetech.com/', 'https://www.ookla.com/ookla-for-good', 'https://www.askmen.com/', 'https://single.speedtest.net', 'https://www.toolbox.com/', 'https://www.facebook.com/speedtest', 'https://www.geek.com/', 'https://www.pcmag.com/', 'https://downdetector.com/', 'https://www.offers.com/', 'https://www.ookla.com/', 'https://www.ziffdavis.com/', 'https://twitter.com/speedtest', 'https://status.ookla.com/', 'https://www.ign.com/', 'https://www.speedtest.net/ru/login', 'https://www.ookla.com/enterprise', 'https://downdetector.com/enterprise/', 'https://www.ookla.com/partnerships', 'https://www.extremetech.com/', 'https://www.ookla.com/ookla-for-good', 'https://www.askmen.com/', 'https://single.speedtest.net', 'https://www.toolbox.com/', 'https://www.facebook.com/speedtest', 'https://www.geek.com/', 'https://www.pcmag.com/', 'https://downdetector.com/', 'https://www.offers.com/', 'https://www.ookla.com/', 'https://www.ziffdavis.com/', 'https://twitter.com/speedtest', 'https://status.ookla.com/', 'https://www.ign.com/', 'https://www.speedtest.net/ru/login', 'https://www.ookla.com/enterprise', 'https://downdetector.com/enterprise/', 'https://www.ookla.com/partnerships', 'https://www.extremetech.com/', 'https://www.ookla.com/ookla-for-good', 'https://www.askmen.com/', 'https://single.speedtest.net', 'https://www.toolbox.com/', 'https://www.facebook.com/speedtest', 'https://www.geek.com/', 'https://www.pcmag.com/', 'https://downdetector.com/', 'https://www.offers.com/', 'https://www.ookla.com/', 'https://www.ziffdavis.com/', 'https://twitter.com/speedtest', 'https://status.ookla.com/', 'https://www.ign.com/', 'https://www.speedtest.net/ru/login', 'https://www.ookla.com/enterprise', 'https://downdetector.com/enterprise/', 'https://www.ookla.com/partnerships', 'https://www.extremetech.com/', 'https://www.ookla.com/ookla-for-good', 'https://www.askmen.com/', 'https://single.speedtest.net', 'https://www.toolbox.com/', 'https://www.facebook.com/speedtest', 'https://www.geek.com/', 'https://www.pcmag.com/', 'https://downdetector.com/', 'https://www.offers.com/', 'https://www.ookla.com/', 'https://www.ziffdavis.com/', 'https://twitter.com/speedtest', 'https://status.ookla.com/', 'https://www.ign.com/']\n",
      "114\n"
     ]
    }
   ],
   "source": [
    "# import required modules \n",
    "from bs4 import BeautifulSoup \n",
    "import requests\n",
    "import time\n",
    "\n",
    "totalLinks = []\n",
    "\n",
    "# Берет все ссылки с сайта\n",
    "# и дальше рекрсивно берет по первый ссылки с каждого надйенного сайта внутри\n",
    "def getLinksFrom(pageURL):\n",
    "    global totalLinks\n",
    "    page = requests.get(pageURL)\n",
    "    soup = BeautifulSoup(page.content, 'html.parser') \n",
    "    links = []\n",
    "    for a in soup.find_all('a', href=True):\n",
    "        if \"https\" in a['href']:\n",
    "            links.append(a['href'])\n",
    "    uniqLinks = [pair[1] for pair in {(type(obj), obj,) for obj in links}]\n",
    "    for link in uniqLinks:\n",
    "        totalLinks.append(link)\n",
    "    if len(totalLinks) < 100 and len(uniqLinks) > 0:\n",
    "        getLinksFrom(uniqLinks[0])\n",
    "    else:\n",
    "        print(totalLinks)\n",
    "        print(len(totalLinks))\n",
    "\n",
    "\n",
    "getLinksFrom(\"https://www.speedtest.net/ru\")\n"
   ]
  },
  {
   "cell_type": "code",
   "execution_count": 111,
   "metadata": {},
   "outputs": [],
   "source": [
    "i = 0\n",
    "index = open('index.txt','w', encoding=\"utf-8\")\n",
    "for link in totalLinks:\n",
    "    page = requests.get(link) \n",
    "    soup = BeautifulSoup(page.content, 'html.parser')\n",
    "    f = open('Выкачка%(i)03d.txt' %{\"i\": i},'w', encoding=\"utf-8\")\n",
    "    string = \"%(i)03d \"%{\"i\": i} + link + \"\\n\"\n",
    "    index.write(string)\n",
    "    f.write(soup.prettify()) \n",
    "    f.close()\n",
    "    i += 1\n",
    "index.close()"
   ]
  },
  {
   "cell_type": "code",
   "execution_count": null,
   "metadata": {},
   "outputs": [],
   "source": []
  },
  {
   "cell_type": "code",
   "execution_count": null,
   "metadata": {},
   "outputs": [],
   "source": []
  }
 ],
 "metadata": {
  "kernelspec": {
   "display_name": "Python 3",
   "language": "python",
   "name": "python3"
  },
  "language_info": {
   "codemirror_mode": {
    "name": "ipython",
    "version": 3
   },
   "file_extension": ".py",
   "mimetype": "text/x-python",
   "name": "python",
   "nbconvert_exporter": "python",
   "pygments_lexer": "ipython3",
   "version": "3.7.6"
  }
 },
 "nbformat": 4,
 "nbformat_minor": 4
}
