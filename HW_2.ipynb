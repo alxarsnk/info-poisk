{
 "cells": [
  {
   "cell_type": "code",
   "execution_count": 1,
   "metadata": {},
   "outputs": [
    {
     "name": "stderr",
     "output_type": "stream",
     "text": [
      "[nltk_data] Downloading package punkt to\n",
      "[nltk_data]     C:\\Users\\sante\\AppData\\Roaming\\nltk_data...\n",
      "[nltk_data]   Package punkt is already up-to-date!\n",
      "[nltk_data] Downloading package stopwords to\n",
      "[nltk_data]     C:\\Users\\sante\\AppData\\Roaming\\nltk_data...\n",
      "[nltk_data]   Package stopwords is already up-to-date!\n"
     ]
    }
   ],
   "source": [
    "import nltk\n",
    "nltk.download('punkt')\n",
    "nltk.download('stopwords')\n",
    "from nltk.tokenize import RegexpTokenizer\n",
    "from nltk.tokenize import sent_tokenize\n",
    "from nltk.tokenize import word_tokenize\n",
    "import re\n",
    "from nltk.corpus import stopwords\n",
    "russian_stopwords = stopwords.words(\"russian\")\n",
    "import pymorphy2\n",
    "morph = pymorphy2.MorphAnalyzer()"
   ]
  },
  {
   "cell_type": "code",
   "execution_count": 2,
   "metadata": {},
   "outputs": [],
   "source": [
    "tokenizer = RegexpTokenizer(r'\\w+')\n",
    "r = re.compile(\"[а-яА-Я]+\")\n",
    "allWords = []\n",
    "\n",
    "for i in range(129):\n",
    "    number = \"%(i)03d \"%{\"i\": i}\n",
    "    number = number[:-1]\n",
    "    f = open('/Users/sante/Выкачка'+number+'.txt', encoding=\"utf-8\")\n",
    "    for line in f:\n",
    "        tokens = tokenizer.tokenize(line)\n",
    "        filteredTokens = []\n",
    "        for token in tokens:\n",
    "            if token not in russian_stopwords:\n",
    "                filteredTokens.append(token)\n",
    "        russian = [w for w in filter(r.match, filteredTokens)]\n",
    "        for word in russian:\n",
    "            if len(word) > 1:\n",
    "                allWords.append(word)"
   ]
  },
  {
   "cell_type": "code",
   "execution_count": 3,
   "metadata": {},
   "outputs": [],
   "source": [
    "            \n",
    "allWords = list(set(allWords))\n",
    "index = open('allWords.txt','w', encoding=\"utf-8\")\n",
    "for word in allWords:\n",
    "    index.write(word + \"\\n\")\n",
    "dictionary = {}\n",
    "for word in allWords:\n",
    "     dictionary[morph.parse(word)[0].normal_form] = []\n",
    "for word in allWords:\n",
    "    dictionary[morph.parse(word)[0].normal_form].append(word)\n",
    "lemantize = open('allWordsLemantize.txt','w', encoding=\"utf-8\")\n",
    "for (key, value) in dictionary.items():\n",
    "    lemantize.write(key + \" \"  + \" \".join(value) + \"\\n\")"
   ]
  }
 ],
 "metadata": {
  "kernelspec": {
   "display_name": "Python 3",
   "language": "python",
   "name": "python3"
  },
  "language_info": {
   "codemirror_mode": {
    "name": "ipython",
    "version": 3
   },
   "file_extension": ".py",
   "mimetype": "text/x-python",
   "name": "python",
   "nbconvert_exporter": "python",
   "pygments_lexer": "ipython3",
   "version": "3.7.6"
  }
 },
 "nbformat": 4,
 "nbformat_minor": 4
}
