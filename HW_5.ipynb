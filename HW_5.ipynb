{
 "cells": [
  {
   "cell_type": "code",
   "execution_count": 1,
   "metadata": {},
   "outputs": [
    {
     "name": "stderr",
     "output_type": "stream",
     "text": [
      "[nltk_data] Downloading package punkt to\n",
      "[nltk_data]     C:\\Users\\sante\\AppData\\Roaming\\nltk_data...\n",
      "[nltk_data]   Package punkt is already up-to-date!\n",
      "[nltk_data] Downloading package stopwords to\n",
      "[nltk_data]     C:\\Users\\sante\\AppData\\Roaming\\nltk_data...\n",
      "[nltk_data]   Package stopwords is already up-to-date!\n"
     ]
    }
   ],
   "source": [
    "import nltk\n",
    "nltk.download('punkt')\n",
    "nltk.download('stopwords')\n",
    "from nltk.tokenize import RegexpTokenizer\n",
    "from nltk.tokenize import sent_tokenize\n",
    "from nltk.tokenize import word_tokenize\n",
    "import re\n",
    "from nltk.corpus import stopwords\n",
    "russian_stopwords = stopwords.words(\"russian\")\n",
    "import pymorphy2\n",
    "morph = pymorphy2.MorphAnalyzer()"
   ]
  },
  {
   "cell_type": "code",
   "execution_count": 2,
   "metadata": {},
   "outputs": [],
   "source": [
    "tfIDFdict = {}\n",
    "file = open(\"tfIDF.txt\", encoding=\"utf8\")\n",
    "strings = file.read().splitlines()\n",
    "for string in strings:\n",
    "    tfIDFdict[string.split()[0]] = string.split()[2]\n",
    "allWords = [*tfIDFdict]"
   ]
  },
  {
   "cell_type": "code",
   "execution_count": 3,
   "metadata": {},
   "outputs": [],
   "source": [
    "dictionary = {}\n",
    "for i in range(129):\n",
    "    number = \"%(i)03d \"%{\"i\": i}\n",
    "    number = number[:-1]\n",
    "    for word in allWords:\n",
    "        if dictionary.get(number) is None:\n",
    "            dictionary[number] = [0]\n",
    "        else:\n",
    "            dictionary[number].append(0)"
   ]
  },
  {
   "cell_type": "code",
   "execution_count": 4,
   "metadata": {},
   "outputs": [],
   "source": [
    "tokenizer = RegexpTokenizer(r'\\w+')\n",
    "r = re.compile(\"[а-яА-Я]+\")\n",
    "for i in range(129):\n",
    "    number = \"%(i)03d \"%{\"i\": i}\n",
    "    number = number[:-1]\n",
    "    f = open('/Users/sante/Выкачка'+number+'.txt', encoding=\"utf-8\")\n",
    "    for line in f:\n",
    "        tokens = tokenizer.tokenize(line)\n",
    "        filteredTokens = []\n",
    "        for token in tokens:\n",
    "            if token not in russian_stopwords:\n",
    "                filteredTokens.append(token)\n",
    "        russian = [morph.parse(w)[0].normal_form for w in filter(r.match, filteredTokens)]\n",
    "        for word in russian:\n",
    "            if tfIDFdict.get(word) is not None:\n",
    "                dictionary[number][allWords.index(word)] = tfIDFdict[word]"
   ]
  },
  {
   "cell_type": "code",
   "execution_count": 11,
   "metadata": {},
   "outputs": [],
   "source": [
    "import math\n",
    "lengthDict = {}\n",
    "for i in range(129):\n",
    "    number = \"%(i)03d \"%{\"i\": i}\n",
    "    number = number[:-1]\n",
    "    res = 0\n",
    "    for value in dictionary[number]:\n",
    "        res += float(value) * float(value)\n",
    "    lengthDict[number] = math.sqrt(res)"
   ]
  },
  {
   "cell_type": "code",
   "execution_count": 12,
   "metadata": {},
   "outputs": [],
   "source": [
    "linksDict = {}\n",
    "file = open(\"index.txt\", encoding=\"utf8\")\n",
    "strings = file.read().splitlines()\n",
    "for string in strings:\n",
    "    linksDict[string.split()[0]] = string.split()[1]\n",
    "    \n",
    "def searchFor(query):\n",
    "    queryValues = []\n",
    "    for word in allWords:\n",
    "        queryValues.append(0)\n",
    "    queryLength = 0\n",
    "    for value in query.split():\n",
    "        if tfIDFdict.get(morph.parse(value)[0].normal_form) is not None:\n",
    "            normalWord = morph.parse(value)[0].normal_form\n",
    "            queryValues[allWords.index(normalWord)] = tfIDFdict[normalWord]\n",
    "    for value in queryValues:\n",
    "        queryLength += float(value) * float(value)\n",
    "    queryLength = math.sqrt(queryLength)\n",
    "    finalValues = {}\n",
    "    for key, values in dictionary.items():\n",
    "        chisl = 0\n",
    "        for pair in enumerate(values):\n",
    "            chisl += float(pair[1]) * float(queryValues[pair[0]])\n",
    "        znam = lengthDict[key] * queryLength\n",
    "        if znam == 0:\n",
    "            znam = 1\n",
    "        finalValues[key] = chisl / znam\n",
    "    soretdDict = dict(reversed(sorted(finalValues.items(), key=lambda item: item[1])))\n",
    "    for index in [*soretdDict][:10]:\n",
    "        print(linksDict[index])"
   ]
  },
  {
   "cell_type": "code",
   "execution_count": 14,
   "metadata": {},
   "outputs": [
    {
     "name": "stdout",
     "output_type": "stream",
     "text": [
      "https://ru.wikipedia.org/wiki/Евклид\n",
      "https://ru.wikipedia.org/wiki/Гаусс,_Карл_Фридрих\n",
      "https://ru.wikipedia.org/wiki/Дюрер,_Альбрехт\n",
      "https://ru.wikipedia.org/wiki/Архимед\n",
      "https://ru.wikipedia.org/wiki/Эйлер,_Леонард\n",
      "https://ru.wikipedia.org/wiki/Ньютон,_Исаак\n",
      "https://ru.wikipedia.org/wiki/Эйнштейн,_Альберт\n",
      "https://ru.wikipedia.org/wiki/Википедия:Избранные_статьи\n",
      "https://ru.wikipedia.org/wiki/Брахмагупта\n",
      "https://ru.wikipedia.org/wiki/Бернерс-Ли,_Тим\n"
     ]
    }
   ],
   "source": [
    "searchFor(\"Евклид математик\")"
   ]
  },
  {
   "cell_type": "code",
   "execution_count": null,
   "metadata": {},
   "outputs": [],
   "source": []
  }
 ],
 "metadata": {
  "kernelspec": {
   "display_name": "Python 3",
   "language": "python",
   "name": "python3"
  },
  "language_info": {
   "codemirror_mode": {
    "name": "ipython",
    "version": 3
   },
   "file_extension": ".py",
   "mimetype": "text/x-python",
   "name": "python",
   "nbconvert_exporter": "python",
   "pygments_lexer": "ipython3",
   "version": "3.7.6"
  }
 },
 "nbformat": 4,
 "nbformat_minor": 4
}
